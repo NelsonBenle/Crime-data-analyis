{
 "cells": [
  {
   "cell_type": "markdown",
   "id": "b80e9219",
   "metadata": {},
   "source": [
    "CRIME DATA ANALYSIS WITH PYTHON \n",
    "\n",
    "Project Overview (Markdown Cell)\n",
    "\n",
    "Title: Boston Crime Data Analysis Using Python\n",
    "\n",
    "Goal: To analyze patterns, trends, and hotspots in crime reports, and derive actionable insights for decision-making or public awareness."
   ]
  },
  {
   "cell_type": "markdown",
   "id": "9433c295",
   "metadata": {},
   "source": [
    "**LOADING THE DATASET AND INITIAL EXPLORATION**"
   ]
  },
  {
   "cell_type": "code",
   "execution_count": 2,
   "id": "57620397",
   "metadata": {},
   "outputs": [],
   "source": [
    "#Import the necessary libraries\n",
    "\n",
    "import pandas as pd\n",
    "import numpy as np"
   ]
  },
  {
   "cell_type": "code",
   "execution_count": null,
   "id": "20df5d6e",
   "metadata": {},
   "outputs": [],
   "source": [
    "#load dataset\n",
    "df= pd.read_csv(\"\")"
   ]
  }
 ],
 "metadata": {
  "kernelspec": {
   "display_name": "Python",
   "language": "python",
   "name": "python3"
  },
  "language_info": {
   "codemirror_mode": {
    "name": "ipython",
    "version": 3
   },
   "file_extension": ".py",
   "mimetype": "text/x-python",
   "name": "python",
   "nbconvert_exporter": "python",
   "pygments_lexer": "ipython3",
   "version": "3.11.7"
  }
 },
 "nbformat": 4,
 "nbformat_minor": 5
}
